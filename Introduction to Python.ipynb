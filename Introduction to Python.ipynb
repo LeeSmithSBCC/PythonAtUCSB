{
 "cells": [
  {
   "cell_type": "markdown",
   "metadata": {},
   "source": [
    "<h1><center> Welcome to <u>INTRODUCTION TO PYTHON</u> </center></h1>\n",
    "<h3><center>Winter Quarter 2019 -- CMPSC X420.P - 002</center></h3><br>\n",
    "<hr>\n",
    "<h3><center>THURSDAYS 5:45 pm TO 8:45 pm <br>\n",
    "Phelps Hall Computer Room 1529  <br>\n",
    "Jan 10, 2019 to Mar 14, 2019</center></h3>"
   ]
  },
  {
   "cell_type": "markdown",
   "metadata": {},
   "source": [
    "### **REQUIRED TEXTBOOK**\n",
    "---\n",
    "#### Python For Everyone, Horstmann and Necaise, John Wiley & Sons, 2nd Edition, 2016, ISBN: 978-1-119-05655-3\n",
    "- Available in the UCSB Bookstore\n",
    "<hr>"
   ]
  },
  {
   "cell_type": "markdown",
   "metadata": {},
   "source": [
    "## Each week you should **<u>read the Textbook</u>** material before class. \n",
    "\n",
    "#### In this class you will learn:\n",
    " - Basic Python Language Programming:\n",
    "     -- INCLUDING -- How to Install and Use Python for your home/laptop computer.\n",
    "     -- Learn Python QUICKLY using Jupyter Browser Notebooks\n",
    " - Basic Browser [Chromium, Edge] Navigation and Use\n",
    " - Create functions and programs for personal/business\n",
    " - Basic Business Spreadsheet Programming\n",
    " - Python and Spreadsheets go together\n",
    " ___\n",
    "#### Python Programming Skills:\n",
    " - Orientation of Python Interpreter and Files \n",
    " - Saving programs to File/Folder, USB Drive, Spreadsheet\n",
    " - Introduction to Basic Tasks like Printing and User Input\n",
    " - Finding Python HELP in the interpreter and on the Web Create and use Variables, Numbers, Strings and Tables\n",
    " - Learn how you program Python to make decisions [ decisions ] \n",
    " - Learn how you program Python to do think FAST [ loops ]\n",
    " - Learn how you program /create mini-programs [ functions ]\n",
    " - Learn how you store information in containers [ lists and dictionaries ]\n",
    " - Learn how you **<u>store</u>** information in files\n",
    " - Learn how you **<u>input</u>** information from files\n",
    " - Learn how you use Python **<u>and</u>** Spreadsheets together\n",
    " - Learn how you display your information visually\n",
    "___\n",
    "#### Each week I will:\n",
    " - Start with a Review and answer Questions\n",
    " - Explain and Demonstrate new material    \n",
    " - YOUR TURN to create/display program    \n",
    " - Review what you have learned\n",
    "___ \n",
    "### Grading for my course:\n",
    "#### Your grade will consist of attendence - 10%, class participation - 10%, weekly projects [in-class] 20%, quizes - 20%, a midterm - 20%  and a final exam - 20%. \n",
    "\n",
    "#### Quizzes:\n",
    "    My quizzes are designed to see how you are learning.    \n",
    "        You will have a chance to improve your score.\n",
    "#### Midterm Exam:    \n",
    "    There will be one midterm, 5-6 weeks into the Quarter.    \n",
    "        You will have a chance to improve your score.\n",
    "#### Final Exam:        \n",
    "    Last Day of Class, March 14, 2019"
   ]
  }
 ],
 "metadata": {
  "kernelspec": {
   "display_name": "Python [conda env:Anaconda3]",
   "language": "python",
   "name": "conda-env-Anaconda3-py"
  },
  "language_info": {
   "codemirror_mode": {
    "name": "ipython",
    "version": 3
   },
   "file_extension": ".py",
   "mimetype": "text/x-python",
   "name": "python",
   "nbconvert_exporter": "python",
   "pygments_lexer": "ipython3",
   "version": "3.5.6"
  }
 },
 "nbformat": 4,
 "nbformat_minor": 2
}
